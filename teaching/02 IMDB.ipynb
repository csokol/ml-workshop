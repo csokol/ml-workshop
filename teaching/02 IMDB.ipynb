{
 "cells": [
  {
   "cell_type": "code",
   "execution_count": 1,
   "metadata": {},
   "outputs": [],
   "source": [
    "from tensorflow.keras.datasets import imdb\n",
    "\n",
    "NUM_WORDS=5000\n",
    "\n",
    "(train_data, train_labels), (test_data, test_labels) = imdb.load_data(num_words=NUM_WORDS)"
   ]
  },
  {
   "cell_type": "code",
   "execution_count": 2,
   "metadata": {},
   "outputs": [
    {
     "name": "stdout",
     "output_type": "stream",
     "text": [
      "(25000,)\n",
      "(25000,)\n",
      "(25000,)\n",
      "(25000,)\n"
     ]
    }
   ],
   "source": [
    "print(train_data.shape)\n",
    "print(train_labels.shape)\n",
    "print(test_data.shape)\n",
    "print(test_labels.shape)"
   ]
  },
  {
   "cell_type": "code",
   "execution_count": 3,
   "metadata": {},
   "outputs": [
    {
     "name": "stdout",
     "output_type": "stream",
     "text": [
      "1\n"
     ]
    },
    {
     "data": {
      "image/png": "[encoded data removed]",
      "text/plain": [
       "<Figure size 432x288 with 1 Axes>"
      ]
     },
     "metadata": {
      "needs_background": "light"
     },
     "output_type": "display_data"
    }
   ],
   "source": [
    "print(train_labels[0])\n",
    "\n",
    "%matplotlib inline \n",
    "import matplotlib.pyplot as plt\n",
    "\n",
    "lengths = [len(x) for x in train_data]\n",
    "\n",
    "plt.hist(lengths, bins=100)\n",
    "plt.show()\n",
    "plt.close()\n"
   ]
  },
  {
   "cell_type": "code",
   "execution_count": 4,
   "metadata": {},
   "outputs": [
    {
     "name": "stdout",
     "output_type": "stream",
     "text": [
      "min 11\n",
      "max 2494\n",
      "mean 238.71364\n",
      "median 178.0\n",
      "std 176.49367364852034\n"
     ]
    }
   ],
   "source": [
    "import numpy as np\n",
    "print(\"min\", np.min(lengths))\n",
    "print(\"max\", np.max(lengths))\n",
    "print(\"mean\", np.mean(lengths))\n",
    "print(\"median\", np.median(lengths))\n",
    "print(\"std\", np.std(lengths))"
   ]
  },
  {
   "cell_type": "code",
   "execution_count": 5,
   "metadata": {},
   "outputs": [
    {
     "name": "stdout",
     "output_type": "stream",
     "text": [
      "1  this film was just brilliant casting location scenery story direction everyone's really suited the part they played and you could just imagine being there robert  is an amazing actor and now the same being director  father came from the same scottish island as myself so i loved the fact there was a real connection with this film the witty remarks throughout the film were great it was just brilliant so much that i bought the film as soon as it was released for  and would recommend it to everyone to watch and the fly  was amazing really cried at the end it was so sad and you know what they say if you cry at a film it must have been good and this definitely was also  to the two little  that played the  of norman and paul they were just brilliant children are often left out of the  list i think because the stars that play them all grown up are such a big  for the whole film but these children are amazing and should be  for what they have done don't you think the whole story was so lovely because it was true and was someone's life after all that was  with us all\n"
     ]
    }
   ],
   "source": [
    "word_index = imdb.get_word_index()\n",
    "\n",
    "\n",
    "reverse_index = { value:key for key, value in word_index.items() }\n",
    "\n",
    "index = 0\n",
    "review = \" \".join([reverse_index.get(x - 3, \"\") for x in train_data[index]])\n",
    "print(train_labels[index], review)\n",
    "\n",
    "\n"
   ]
  },
  {
   "cell_type": "code",
   "execution_count": 6,
   "metadata": {},
   "outputs": [
    {
     "name": "stdout",
     "output_type": "stream",
     "text": [
      "(25000, 5000)\n",
      "[0. 1. 1. ... 0. 0. 0.]\n"
     ]
    }
   ],
   "source": [
    "def vectorize_sequences(sequences, dimension=NUM_WORDS): \n",
    "    results = np.zeros((len(sequences), dimension))\n",
    "    for i, sequence in enumerate(sequences):\n",
    "        results[i, sequence] = 1.0 ## assigns 1 to multiple entries at once\n",
    "    return results\n",
    "\n",
    "x_train = vectorize_sequences(train_data)\n",
    "x_test = vectorize_sequences(test_data)\n",
    "\n",
    "\n",
    "print(x_train.shape)\n",
    "print(x_train[0])"
   ]
  },
  {
   "cell_type": "code",
   "execution_count": 7,
   "metadata": {},
   "outputs": [],
   "source": [
    "y_train = np.array(train_labels).astype(\"float32\")\n",
    "y_test = np.array(test_labels).astype(\"float32\")"
   ]
  },
  {
   "cell_type": "code",
   "execution_count": 8,
   "metadata": {},
   "outputs": [
    {
     "name": "stderr",
     "output_type": "stream",
     "text": [
      "WARNING: Logging before flag parsing goes to stderr.\n",
      "W0722 16:46:03.441854 4637988288 deprecation.py:506] From /usr/local/lib/python3.7/site-packages/tensorflow/python/ops/init_ops.py:1251: calling VarianceScaling.__init__ (from tensorflow.python.ops.init_ops) with dtype is deprecated and will be removed in a future version.\n",
      "Instructions for updating:\n",
      "Call initializer instance with the dtype argument instead of passing it to the constructor\n",
      "W0722 16:46:03.515484 4637988288 deprecation.py:323] From /usr/local/lib/python3.7/site-packages/tensorflow/python/ops/nn_impl.py:180: add_dispatch_support.<locals>.wrapper (from tensorflow.python.ops.array_ops) is deprecated and will be removed in a future version.\n",
      "Instructions for updating:\n",
      "Use tf.where in 2.0, which has the same broadcast rule as np.where\n"
     ]
    },
    {
     "name": "stdout",
     "output_type": "stream",
     "text": [
      "Model: \"sequential\"\n",
      "_________________________________________________________________\n",
      "Layer (type)                 Output Shape              Param #   \n",
      "=================================================================\n",
      "dense (Dense)                (None, 16)                80016     \n",
      "_________________________________________________________________\n",
      "dense_1 (Dense)              (None, 64)                1088      \n",
      "_________________________________________________________________\n",
      "dense_2 (Dense)              (None, 1)                 65        \n",
      "=================================================================\n",
      "Total params: 81,169\n",
      "Trainable params: 81,169\n",
      "Non-trainable params: 0\n",
      "_________________________________________________________________\n"
     ]
    }
   ],
   "source": [
    "from tensorflow.keras import models, layers\n",
    "\n",
    "model = models.Sequential()\n",
    "model.add(layers.Dense(16, activation=\"relu\", input_shape=(NUM_WORDS,)))\n",
    "model.add(layers.Dense(64, activation=\"relu\"))\n",
    "model.add(layers.Dense(1, activation=\"sigmoid\"))\n",
    "model.summary()\n",
    "\n",
    "model.compile(\n",
    "    optimizer=\"rmsprop\",\n",
    "    loss=\"binary_crossentropy\",\n",
    "    metrics=[\"accuracy\"]\n",
    ")\n"
   ]
  },
  {
   "cell_type": "code",
   "execution_count": 9,
   "metadata": {},
   "outputs": [
    {
     "name": "stdout",
     "output_type": "stream",
     "text": [
      "Train on 20000 samples, validate on 5000 samples\n",
      "Epoch 1/30\n",
      "20000/20000 [==============================] - 1s 38us/sample - loss: 0.4947 - acc: 0.7898 - val_loss: 0.3520 - val_acc: 0.8732\n",
      "Epoch 2/30\n",
      "20000/20000 [==============================] - 1s 28us/sample - loss: 0.2896 - acc: 0.8930 - val_loss: 0.3582 - val_acc: 0.8510\n",
      "Epoch 3/30\n",
      "20000/20000 [==============================] - 1s 28us/sample - loss: 0.2368 - acc: 0.9103 - val_loss: 0.2865 - val_acc: 0.8848\n",
      "Epoch 4/30\n",
      "20000/20000 [==============================] - 1s 28us/sample - loss: 0.2109 - acc: 0.9226 - val_loss: 0.2961 - val_acc: 0.8868\n",
      "Epoch 5/30\n",
      "20000/20000 [==============================] - 1s 28us/sample - loss: 0.1877 - acc: 0.9294 - val_loss: 0.3161 - val_acc: 0.8806\n",
      "Epoch 6/30\n",
      "20000/20000 [==============================] - 1s 28us/sample - loss: 0.1765 - acc: 0.9326 - val_loss: 0.3242 - val_acc: 0.8806\n",
      "Epoch 7/30\n",
      "20000/20000 [==============================] - 1s 28us/sample - loss: 0.1620 - acc: 0.9372 - val_loss: 0.3259 - val_acc: 0.8832\n",
      "Epoch 8/30\n",
      "20000/20000 [==============================] - 1s 28us/sample - loss: 0.1504 - acc: 0.9436 - val_loss: 0.3409 - val_acc: 0.8784\n",
      "Epoch 9/30\n",
      "20000/20000 [==============================] - 1s 27us/sample - loss: 0.1442 - acc: 0.9443 - val_loss: 0.3584 - val_acc: 0.8790\n",
      "Epoch 10/30\n",
      "20000/20000 [==============================] - 1s 27us/sample - loss: 0.1340 - acc: 0.9506 - val_loss: 0.3744 - val_acc: 0.8770\n",
      "Epoch 11/30\n",
      "20000/20000 [==============================] - 1s 27us/sample - loss: 0.1227 - acc: 0.9546 - val_loss: 0.3870 - val_acc: 0.8750\n",
      "Epoch 12/30\n",
      "20000/20000 [==============================] - 1s 28us/sample - loss: 0.1163 - acc: 0.9574 - val_loss: 0.4266 - val_acc: 0.8700\n",
      "Epoch 13/30\n",
      "20000/20000 [==============================] - 1s 27us/sample - loss: 0.1090 - acc: 0.9611 - val_loss: 0.4479 - val_acc: 0.8670\n",
      "Epoch 14/30\n",
      "20000/20000 [==============================] - 1s 28us/sample - loss: 0.0999 - acc: 0.9635 - val_loss: 0.4596 - val_acc: 0.8702\n",
      "Epoch 15/30\n",
      "20000/20000 [==============================] - 1s 29us/sample - loss: 0.0933 - acc: 0.9668 - val_loss: 0.4901 - val_acc: 0.8684\n",
      "Epoch 16/30\n",
      "20000/20000 [==============================] - 1s 29us/sample - loss: 0.0866 - acc: 0.9700 - val_loss: 0.4958 - val_acc: 0.8712\n",
      "Epoch 17/30\n",
      "20000/20000 [==============================] - 1s 28us/sample - loss: 0.0810 - acc: 0.9707 - val_loss: 0.4948 - val_acc: 0.8692\n",
      "Epoch 18/30\n",
      "20000/20000 [==============================] - 1s 28us/sample - loss: 0.0726 - acc: 0.9760 - val_loss: 0.5183 - val_acc: 0.8710\n",
      "Epoch 19/30\n",
      "20000/20000 [==============================] - 1s 28us/sample - loss: 0.0617 - acc: 0.9813 - val_loss: 0.6031 - val_acc: 0.8626\n",
      "Epoch 20/30\n",
      "20000/20000 [==============================] - 1s 27us/sample - loss: 0.0558 - acc: 0.9823 - val_loss: 0.5733 - val_acc: 0.8688\n",
      "Epoch 21/30\n",
      "20000/20000 [==============================] - 1s 28us/sample - loss: 0.0542 - acc: 0.9821 - val_loss: 0.6451 - val_acc: 0.8616\n",
      "Epoch 22/30\n",
      "20000/20000 [==============================] - 1s 28us/sample - loss: 0.0429 - acc: 0.9879 - val_loss: 0.6308 - val_acc: 0.8630\n",
      "Epoch 23/30\n",
      "20000/20000 [==============================] - 1s 28us/sample - loss: 0.0378 - acc: 0.9892 - val_loss: 0.6703 - val_acc: 0.8636\n",
      "Epoch 24/30\n",
      "20000/20000 [==============================] - 1s 28us/sample - loss: 0.0408 - acc: 0.9867 - val_loss: 0.6655 - val_acc: 0.8654\n",
      "Epoch 25/30\n",
      "20000/20000 [==============================] - 1s 27us/sample - loss: 0.0252 - acc: 0.9948 - val_loss: 0.7299 - val_acc: 0.8624\n",
      "Epoch 26/30\n",
      "20000/20000 [==============================] - 1s 27us/sample - loss: 0.0287 - acc: 0.9913 - val_loss: 0.7342 - val_acc: 0.8634\n",
      "Epoch 27/30\n",
      "20000/20000 [==============================] - 1s 27us/sample - loss: 0.0229 - acc: 0.9944 - val_loss: 0.7770 - val_acc: 0.8632\n",
      "Epoch 28/30\n",
      "20000/20000 [==============================] - 1s 26us/sample - loss: 0.0191 - acc: 0.9951 - val_loss: 0.8104 - val_acc: 0.8644\n",
      "Epoch 29/30\n",
      "20000/20000 [==============================] - 1s 27us/sample - loss: 0.0200 - acc: 0.9949 - val_loss: 0.8223 - val_acc: 0.8638\n",
      "Epoch 30/30\n",
      "20000/20000 [==============================] - 1s 26us/sample - loss: 0.0179 - acc: 0.9956 - val_loss: 0.8594 - val_acc: 0.8626\n"
     ]
    }
   ],
   "source": [
    "history = model.fit(\n",
    "    x_train, y_train,\n",
    "    epochs=30,\n",
    "    batch_size=512,\n",
    "    validation_split=0.2\n",
    ")\n"
   ]
  },
  {
   "cell_type": "code",
   "execution_count": 10,
   "metadata": {},
   "outputs": [
    {
     "data": {
      "image/png": "[encoded data removed]",
      "text/plain": [
       "<Figure size 432x288 with 1 Axes>"
      ]
     },
     "metadata": {
      "needs_background": "light"
     },
     "output_type": "display_data"
    },
    {
     "data": {
      "image/png": "[encoded data removed]",
      "text/plain": [
       "<Figure size 432x288 with 1 Axes>"
      ]
     },
     "metadata": {
      "needs_background": "light"
     },
     "output_type": "display_data"
    }
   ],
   "source": [
    "plt.plot(history.history[\"loss\"], label=\"loss\")\n",
    "plt.plot(history.history[\"val_loss\"], label=\"val_loss\")\n",
    "plt.legend()\n",
    "plt.show()\n",
    "plt.close()\n",
    "\n",
    "plt.plot(history.history[\"acc\"], label=\"acc\")\n",
    "plt.plot(history.history[\"val_acc\"], label=\"val_acc\")\n",
    "plt.legend()\n",
    "plt.show()\n",
    "plt.close()"
   ]
  },
  {
   "cell_type": "code",
   "execution_count": 11,
   "metadata": {},
   "outputs": [
    {
     "name": "stdout",
     "output_type": "stream",
     "text": [
      "25000/25000 [==============================] - 1s 27us/sample - loss: 0.9165 - acc: 0.8476\n"
     ]
    },
    {
     "data": {
      "text/plain": [
       "[0.9165446485638619, 0.8476]"
      ]
     },
     "execution_count": 11,
     "metadata": {},
     "output_type": "execute_result"
    }
   ],
   "source": [
    "model.evaluate(x_test, y_test)"
   ]
  },
  {
   "cell_type": "code",
   "execution_count": 12,
   "metadata": {},
   "outputs": [
    {
     "name": "stdout",
     "output_type": "stream",
     "text": [
      "[4, 4, 5, 5, 5, 5, 5, 5, 6, 6, 7, 7, 7, 7, 8, 8, 10, 10, 11, 11, 12, 12, 12, 12, 13, 13, 13, 13, 13, 13, 13, 13, 13, 13, 13, 14, 14, 15, 15, 15, 16, 16, 18, 18, 18, 19, 20, 20, 20, 22, 25, 25, 28, 32, 33, 35, 43, 49, 52, 56, 56, 61, 61, 61, 61, 61, 70, 71, 74, 79, 79, 88, 88, 95, 96, 110, 113, 113, 114, 120, 124, 126, 126, 128, 131, 138, 143, 143, 165, 170, 224, 226, 229, 233, 249, 249, 249, 249, 251, 289, 296, 298, 334, 340, 355, 355, 369, 419, 419, 421, 421, 429, 457, 473, 516, 534, 562, 569, 570, 590, 595, 706, 725, 784, 919, 988, 1095, 1272, 1323, 1400, 1513, 1543, 1543, 1571, 1637, 1696, 2073, 2167, 2359, 2401, 2601, 2626, 3171, 3171, 3524]\n",
      "[1, 2, 2, 2, 2, 2, 2, 2, 2, 2, 2, 2, 4, 4, 4, 4, 4, 4, 4, 4, 4, 4, 4, 4, 4, 4, 4, 5, 5, 5, 5, 5, 5, 5, 5, 5, 6, 6, 6, 7, 7, 8, 8, 8, 9, 12, 12, 12, 12, 12, 12, 13, 13, 13, 14, 14, 14, 15, 15, 15, 15, 16, 16, 16, 16, 16, 16, 16, 16, 16, 16, 16, 17, 17, 17, 18, 18, 18, 19, 19, 21, 22, 22, 22, 22, 22, 22, 25, 25, 25, 25, 26, 26, 26, 28, 28, 30, 32, 32, 32, 33, 33, 35, 36, 36, 36, 36, 38, 38, 38, 38, 39, 43, 43, 43, 43, 46, 48, 50, 50, 51, 51, 52, 56, 62, 65, 65, 66, 66, 71, 71, 76, 77, 82, 87, 88, 88, 92, 98, 100, 103, 104, 104, 106, 107, 112, 112, 113, 117, 124, 130, 134, 135, 141, 144, 147, 150, 167, 172, 172, 173, 178, 192, 194, 215, 224, 226, 226, 256, 256, 283, 284, 297, 316, 317, 336, 381, 385, 386, 400, 407, 447, 458, 469, 476, 476, 480, 480, 480, 515, 530, 530, 530, 546, 619, 626, 670, 723, 838, 973, 1029, 1111, 1247, 1334, 1385, 1415, 1622, 1920, 2025, 2071, 2223, 3766, 3785, 3941, 4468, 4472, 4536, 4613]\n",
      "0\n",
      "1 I love this film\n",
      "1 jim carrey\n",
      "0 adam sandler\n",
      "0 arnold schwarzenegger\n",
      "0 brad pitt\n",
      "0 this film is terrible\n",
      "1 this film is awesome\n",
      "0 worst mistake of my life br br i picked this movie up at target for 5 because i figured hey it's sandler i can get some cheap laughs i was wrong completely wrong mid way through the film all three of my friends were asleep and i was still suffering worst plot worst script worst movie i have ever seen i wanted to hit my head up against a wall for an hour then i'd stop and you know why because it felt damn good upon bashing my head in i stuck that damn movie in the  and watched it burn and that felt better than anything else i've ever done it took american psycho army of darkness and kill bill just to get over that crap i hate you sandler for actually going through with this and ruining a whole day of my life\n",
      "0.0176\n"
     ]
    }
   ],
   "source": [
    "\n",
    "#review = \"this is the worst movie i ever saw the actors are terrible and the production is poor\"\n",
    "#review = \"this is amazing the screenplay is great and the actors are perfect\"\n",
    "# review = \"worst mistake of my life br br i picked this movie up at target for 5 because i figured hey it's sandler i can get some cheap laughs i was wrong completely wrong mid way through the film all three of my friends were asleep and i was still suffering worst plot worst script worst movie i have ever seen i wanted to hit my head up against a wall for an hour then i'd stop and you know why because it felt damn good upon bashing my head in i stuck that damn movie in the  and watched it burn and that felt better than anything else i've ever done it took american psycho army of darkness and kill bill just to get over that crap i hate you sandler for actually going through with this and ruining a whole day of my life\"\n",
    "#[\"chico\", \"tw\", \"cool\", \"blabla\"]\n",
    "# \"chico cool\" => [1, 0, 1, 0]\n",
    "\n",
    "# [0, 2] => [1, 0, 1, 0]\n",
    "\n",
    "# [0, 1, 0, 1, 1]\n",
    "import re\n",
    "\n",
    "def review_to_sequence(review):\n",
    "    words = re.split('\\W+', review)\n",
    "    return [word_index.get(x) + 3 for x in words if word_index.get(x) != None and word_index.get(x) < NUM_WORDS]\n",
    "\n",
    "def vectorize(review, dimension=NUM_WORDS): \n",
    "    sequence = review_to_sequence(review)\n",
    "    results = np.zeros((1, dimension))\n",
    "    results[0, [sequence]] = 1.0\n",
    "    return results\n",
    "\n",
    "def to_review(index):\n",
    "    review = \" \".join([reverse_index.get(x - 3, \"\") for x in train_data[index]])\n",
    "    return review\n",
    "    \n",
    "def predict(review): \n",
    "    prediction = model.predict(vectorize(review))[0][0]\n",
    "    if (prediction >= 0.5):\n",
    "        return 1\n",
    "    else:\n",
    "        return 0\n",
    "\n",
    "    \n",
    "def vector_to_words(vec):    \n",
    "    words=[i for i, x in enumerate(vec[0]) if x == 1.0]\n",
    "    return \" \".join([reverse_index.get(x, \"\") for x in words])\n",
    "\n",
    "#review = \"this film was just brilliant casting location scenery story direction everyone's really suited the part they played and you could just imagine being there robert  is an amazing actor and now the same being director  father came from the same scottish island as myself so i loved the fact there was a real connection with this film the witty remarks throughout the film were great it was just brilliant so much that i bought the film as soon as it was released for  and would recommend it to everyone to watch and the fly fishing was amazing really cried at the end it was so sad and you know what they say if you cry at a film it must have been good and this definitely was also  to the two little boy's that played the  of norman and paul they were just brilliant children are often left out of the  list i think because the stars that play them all grown up are such a big profile for the whole film but these children are amazing and should be praised for what they have done don't you think the whole story was so lovely because it was true and was someone's life after all that was shared with us all\"\n",
    "#review = \"this is the worst movie i ever saw the actors are terrible and the production is poor\"\n",
    "#review = \"this is amazing the screenplay is great and the actors are perfect\"\n",
    "review = \"worst mistake of my life br br i picked this movie up at target for 5 because i figured hey it's sandler i can get some cheap laughs i was wrong completely wrong mid way through the film all three of my friends were asleep and i was still suffering worst plot worst script worst movie i have ever seen i wanted to hit my head up against a wall for an hour then i'd stop and you know why because it felt damn good upon bashing my head in i stuck that damn movie in the  and watched it burn and that felt better than anything else i've ever done it took american psycho army of darkness and kill bill just to get over that crap i hate you sandler for actually going through with this and ruining a whole day of my life\"\n",
    "review_sequence = review_to_sequence(review)\n",
    "review_sequence.sort()\n",
    "print(review_sequence)\n",
    "\n",
    "index = 0\n",
    "train_seq = train_data[index]\n",
    "train_seq.sort()\n",
    "print(train_seq)\n",
    "\n",
    "print(predict(review))\n",
    "\n",
    "# vec = vectorize(review)[0]\n",
    "# for i in range(0, len(x_train[index])):\n",
    "#     print(vec[i], x_train[index][i])\n",
    "\n",
    "#print(vector_to_words(review_vector))\n",
    "#print(vector_to_words(review_vector))\n",
    "#print(to_review(6))\n",
    "\n",
    "def print_nicely(review):\n",
    "    print(predict(review), review)    \n",
    "\n",
    "print_nicely(\"I love this film\")\n",
    "print_nicely(\"jim carrey\")\n",
    "print_nicely(\"adam sandler\")\n",
    "print_nicely(\"arnold schwarzenegger\")\n",
    "print_nicely(\"brad pitt\")\n",
    "print_nicely(\"this film is terrible\")\n",
    "print_nicely(\"this film is awesome\")\n",
    "print_nicely(\"worst mistake of my life br br i picked this movie up at target for 5 because i figured hey it's sandler i can get some cheap laughs i was wrong completely wrong mid way through the film all three of my friends were asleep and i was still suffering worst plot worst script worst movie i have ever seen i wanted to hit my head up against a wall for an hour then i'd stop and you know why because it felt damn good upon bashing my head in i stuck that damn movie in the  and watched it burn and that felt better than anything else i've ever done it took american psycho army of darkness and kill bill just to get over that crap i hate you sandler for actually going through with this and ruining a whole day of my life\")\n",
    "\n",
    "\n",
    "mistakes = 0.0\n",
    "total = 5000\n",
    "for i in range(1, total):\n",
    "    if (predict(to_review(i)) != train_labels[i]):\n",
    "        mistakes += 1\n",
    "        #print(predict(to_review(i)), train_labels[i], to_review(i))\n",
    "    \n",
    "print(mistakes / total)\n",
    "#print(predict(to_review(6))[0], train_labels[6], to_review(6))\n",
    "#print(predict(to_review(1))[0], train_labels[1], to_review(1))\n",
    "#print(predict(review), review)\n"
   ]
  },
  {
   "cell_type": "code",
   "execution_count": null,
   "metadata": {},
   "outputs": [],
   "source": []
  },
  {
   "cell_type": "code",
   "execution_count": null,
   "metadata": {},
   "outputs": [],
   "source": []
  }
 ],
 "metadata": {
  "kernelspec": {
   "display_name": "Python 3",
   "language": "python",
   "name": "python3"
  },
  "language_info": {
   "codemirror_mode": {
    "name": "ipython",
    "version": 3
   },
   "file_extension": ".py",
   "mimetype": "text/x-python",
   "name": "python",
   "nbconvert_exporter": "python",
   "pygments_lexer": "ipython3",
   "version": "3.7.4"
  }
 },
 "nbformat": 4,
 "nbformat_minor": 2
}
