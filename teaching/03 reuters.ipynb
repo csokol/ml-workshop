{
 "cells": [
  {
   "cell_type": "code",
   "execution_count": 1,
   "metadata": {},
   "outputs": [],
   "source": [
    "import numpy as np\n",
    "%matplotlib inline \n",
    "import matplotlib.pyplot as plt\n",
    "\n",
    "old = np.load\n",
    "np.load = lambda *a,**k: old(*a,**k,allow_pickle=True)\n",
    "\n",
    "NUM_WORDS = 10000\n",
    "\n",
    "from tensorflow.keras.datasets import reuters\n",
    "(train_data, train_labels), (test_data, test_labels) = reuters.load_data(num_words=NUM_WORDS)\n",
    "\n",
    "np.load = old\n",
    "del(old)\n",
    "\n"
   ]
  },
  {
   "cell_type": "code",
   "execution_count": 2,
   "metadata": {},
   "outputs": [
    {
     "name": "stdout",
     "output_type": "stream",
     "text": [
      "3    said as a result of its december acquisition of space co it expects earnings per share in 1987 of 1 15 to 1 30 dlrs per share up from 70 cts in 1986 the company said pretax net should rise to nine to 10 mln dlrs from six mln dlrs in 1986 and rental operation revenues to 19 to 22 mln dlrs from 12 5 mln dlrs it said cash flow per share this year should be 2 50 to three dlrs reuter 3\n",
      "4  generale de banque sa lt  br and lt heller overseas corp of chicago have each taken 50 pct stakes in  company sa  factors generale de banque said in a statement it gave no financial details of the transaction sa   turnover in 1986 was 17 5 billion belgian francs reuter 3\n",
      "3  shr 3 28 dlrs vs 22 cts shr diluted 2 99 dlrs vs 22 cts net 46 0 mln vs 3 328 000 avg shrs 14 0 mln vs 15 2 mln year shr 5 41 dlrs vs 1 56 dlrs shr diluted 4 94 dlrs vs 1 50 dlrs net 78 2 mln vs 25 9 mln avg shrs 14 5 mln vs 15 1 mln note earnings per share reflect the two for one split effective january 6 1987 per share amounts are calculated after preferred stock dividends loss continuing operations for the qtr 1986 includes gains of sale of investments in  corp of 14 mln dlrs and associated companies of 4 189 000 less writedowns of investments in national  inc of 11 8 mln and  corp of 15 6 mln reuter 3\n",
      "4  the farmers home administration the u s agriculture department's farm lending arm could lose about seven billion dlrs in outstanding principal on its severely  borrowers or about one fourth of its farm loan portfolio the general accounting office gao said in remarks prepared for delivery to the senate agriculture committee brian crowley senior associate director of gao also said that a preliminary analysis of proposed changes in  financial eligibility standards indicated as many as one half of  borrowers who received new loans from the agency in 1986 would be  under the proposed system the agency has proposed evaluating  credit using a variety of financial ratios instead of relying solely on  ability senate agriculture committee chairman patrick leahy d vt  the proposed eligibility changes telling  administrator  clark at a hearing that they would mark a dramatic shift in the agency's purpose away from being farmers' lender of last resort toward becoming a big city bank but clark defended the new regulations saying the agency had a responsibility to  its 70 billion dlr loan portfolio in a  yet  manner crowley of gao   arm said the proposed credit  system attempted to ensure that  would make loans only to borrowers who had a reasonable change of repaying their debt reuter 3\n",
      "4  seton co said its board has received a proposal from chairman and chief executive officer philip d  to acquire seton for 15 75 dlrs per share in cash seton said the acquisition bid is subject to  arranging the necessary financing it said he intends to ask other members of senior management to participate the company said  owns 30 pct of seton stock and other management members another 7 5 pct seton said it has formed an independent board committee to consider the offer and has deferred the annual meeting it had scheduled for march 31 reuter 3\n"
     ]
    }
   ],
   "source": [
    "\n",
    "word_index = reuters.get_word_index()\n",
    "reverse_index = { value:key for key, value in word_index.items() }\n",
    "\n",
    "def print_article(index):\n",
    "    print(train_labels[index], \" \".join([reverse_index.get(i - 3, \"\") for i in train_data[index]]))\n",
    "    \n",
    "for i in range(0, 5):\n",
    "    print_article(i)\n",
    "\n"
   ]
  },
  {
   "cell_type": "code",
   "execution_count": 3,
   "metadata": {},
   "outputs": [],
   "source": [
    "def vectorize_sequences(sequences, dimension=NUM_WORDS): \n",
    "    results = np.zeros((len(sequences), dimension))\n",
    "    for i, sequence in enumerate(sequences):\n",
    "        results[i, sequence] = 1.0 ## assigns 1 to multiple entries at once\n",
    "    return results\n",
    "\n",
    "x_train = vectorize_sequences(train_data)\n",
    "x_test = vectorize_sequences(test_data)\n"
   ]
  },
  {
   "cell_type": "code",
   "execution_count": 4,
   "metadata": {},
   "outputs": [
    {
     "data": {
      "text/plain": [
       "46"
      ]
     },
     "execution_count": 4,
     "metadata": {},
     "output_type": "execute_result"
    }
   ],
   "source": [
    "x = set(train_labels)\n",
    "len(x)"
   ]
  },
  {
   "cell_type": "code",
   "execution_count": 5,
   "metadata": {},
   "outputs": [],
   "source": [
    "from tensorflow.keras.utils import to_categorical\n",
    "\n",
    "y_train = to_categorical(np.array(train_labels).astype(\"float32\"))\n",
    "y_test = to_categorical(np.array(test_labels).astype(\"float32\"))"
   ]
  },
  {
   "cell_type": "code",
   "execution_count": 6,
   "metadata": {},
   "outputs": [
    {
     "name": "stderr",
     "output_type": "stream",
     "text": [
      "WARNING: Logging before flag parsing goes to stderr.\n",
      "W0729 15:12:55.045505 4515206592 deprecation.py:506] From /usr/local/lib/python3.7/site-packages/tensorflow/python/ops/init_ops.py:1251: calling VarianceScaling.__init__ (from tensorflow.python.ops.init_ops) with dtype is deprecated and will be removed in a future version.\n",
      "Instructions for updating:\n",
      "Call initializer instance with the dtype argument instead of passing it to the constructor\n"
     ]
    },
    {
     "name": "stdout",
     "output_type": "stream",
     "text": [
      "Model: \"sequential\"\n",
      "_________________________________________________________________\n",
      "Layer (type)                 Output Shape              Param #   \n",
      "=================================================================\n",
      "dense (Dense)                (None, 500)               5000500   \n",
      "_________________________________________________________________\n",
      "dense_1 (Dense)              (None, 100)               50100     \n",
      "_________________________________________________________________\n",
      "dense_2 (Dense)              (None, 46)                4646      \n",
      "=================================================================\n",
      "Total params: 5,055,246\n",
      "Trainable params: 5,055,246\n",
      "Non-trainable params: 0\n",
      "_________________________________________________________________\n",
      "Model: \"sequential\"\n",
      "_________________________________________________________________\n",
      "Layer (type)                 Output Shape              Param #   \n",
      "=================================================================\n",
      "dense (Dense)                (None, 500)               5000500   \n",
      "_________________________________________________________________\n",
      "dense_1 (Dense)              (None, 100)               50100     \n",
      "_________________________________________________________________\n",
      "dense_2 (Dense)              (None, 46)                4646      \n",
      "=================================================================\n",
      "Total params: 5,055,246\n",
      "Trainable params: 5,055,246\n",
      "Non-trainable params: 0\n",
      "_________________________________________________________________\n"
     ]
    }
   ],
   "source": [
    "from tensorflow.keras import models, layers\n",
    "\n",
    "model = models.Sequential()\n",
    "model.add(layers.Dense(500, activation=\"relu\", input_shape=(NUM_WORDS,)))\n",
    "model.add(layers.Dense(100, activation=\"relu\"))\n",
    "model.add(layers.Dense(46, activation=\"softmax\"))\n",
    "model.summary()\n",
    "model.summary()\n",
    "\n",
    "model.compile(\n",
    "    optimizer=\"rmsprop\",\n",
    "    loss=\"categorical_crossentropy\",\n",
    "    metrics=[\"accuracy\"]\n",
    ")\n"
   ]
  },
  {
   "cell_type": "code",
   "execution_count": 7,
   "metadata": {},
   "outputs": [
    {
     "name": "stdout",
     "output_type": "stream",
     "text": [
      "Train on 8892 samples, validate on 90 samples\n",
      "Epoch 1/20\n",
      "8892/8892 [==============================] - 2s 203us/sample - loss: 1.8722 - acc: 0.5980 - val_loss: 1.2873 - val_acc: 0.7444\n",
      "Epoch 2/20\n",
      "8892/8892 [==============================] - 1s 165us/sample - loss: 0.8523 - acc: 0.8159 - val_loss: 1.0838 - val_acc: 0.7778\n",
      "Epoch 3/20\n",
      "8892/8892 [==============================] - 2s 197us/sample - loss: 0.5090 - acc: 0.8935 - val_loss: 0.9968 - val_acc: 0.8000\n",
      "Epoch 4/20\n",
      "8892/8892 [==============================] - 2s 195us/sample - loss: 0.3315 - acc: 0.9271 - val_loss: 1.0946 - val_acc: 0.8000\n",
      "Epoch 5/20\n",
      "8892/8892 [==============================] - 1s 168us/sample - loss: 0.2498 - acc: 0.9412 - val_loss: 1.0659 - val_acc: 0.7778\n",
      "Epoch 6/20\n",
      "8892/8892 [==============================] - 1s 159us/sample - loss: 0.1984 - acc: 0.9485 - val_loss: 1.1134 - val_acc: 0.7667\n",
      "Epoch 7/20\n",
      "8892/8892 [==============================] - 1s 159us/sample - loss: 0.1739 - acc: 0.9515 - val_loss: 1.2387 - val_acc: 0.7444\n",
      "Epoch 8/20\n",
      "8892/8892 [==============================] - 1s 160us/sample - loss: 0.1555 - acc: 0.9529 - val_loss: 1.2551 - val_acc: 0.7778\n",
      "Epoch 9/20\n",
      "8892/8892 [==============================] - 1s 159us/sample - loss: 0.1520 - acc: 0.9527 - val_loss: 1.2147 - val_acc: 0.7444\n",
      "Epoch 10/20\n",
      "8892/8892 [==============================] - 1s 156us/sample - loss: 0.1407 - acc: 0.9513 - val_loss: 1.0356 - val_acc: 0.8000\n",
      "Epoch 11/20\n",
      "8892/8892 [==============================] - 2s 198us/sample - loss: 0.1310 - acc: 0.9533 - val_loss: 1.2743 - val_acc: 0.7444\n",
      "Epoch 12/20\n",
      "8892/8892 [==============================] - 1s 166us/sample - loss: 0.1247 - acc: 0.9539 - val_loss: 1.1816 - val_acc: 0.7778\n",
      "Epoch 13/20\n",
      "8892/8892 [==============================] - 1s 160us/sample - loss: 0.1210 - acc: 0.9525 - val_loss: 1.0156 - val_acc: 0.8000\n",
      "Epoch 14/20\n",
      "8892/8892 [==============================] - 1s 160us/sample - loss: 0.1128 - acc: 0.9539 - val_loss: 1.2478 - val_acc: 0.7778\n",
      "Epoch 15/20\n",
      "8892/8892 [==============================] - 2s 202us/sample - loss: 0.1115 - acc: 0.9531 - val_loss: 1.2089 - val_acc: 0.8000\n",
      "Epoch 16/20\n",
      "8892/8892 [==============================] - 1s 157us/sample - loss: 0.1099 - acc: 0.9531 - val_loss: 1.0965 - val_acc: 0.8000\n",
      "Epoch 17/20\n",
      "8892/8892 [==============================] - 2s 172us/sample - loss: 0.1041 - acc: 0.9522 - val_loss: 1.1639 - val_acc: 0.7778\n",
      "Epoch 18/20\n",
      "8892/8892 [==============================] - 2s 194us/sample - loss: 0.0995 - acc: 0.9534 - val_loss: 1.4266 - val_acc: 0.7667\n",
      "Epoch 19/20\n",
      "8892/8892 [==============================] - 1s 160us/sample - loss: 0.0964 - acc: 0.9551 - val_loss: 1.4112 - val_acc: 0.7889\n",
      "Epoch 20/20\n",
      "8892/8892 [==============================] - 1s 157us/sample - loss: 0.0957 - acc: 0.9549 - val_loss: 1.1760 - val_acc: 0.8111\n"
     ]
    }
   ],
   "source": [
    "x_train.shape\n",
    "y_train.shape\n",
    "\n",
    "history = model.fit(\n",
    "    x_train, y_train,\n",
    "    epochs=20,\n",
    "    batch_size=512,\n",
    "    validation_split=0.01\n",
    ")\n"
   ]
  },
  {
   "cell_type": "code",
   "execution_count": 8,
   "metadata": {},
   "outputs": [
    {
     "data": {
      "image/png": "[encoded data removed]",
      "text/plain": [
       "<Figure size 432x288 with 1 Axes>"
      ]
     },
     "metadata": {
      "needs_background": "light"
     },
     "output_type": "display_data"
    },
    {
     "data": {
      "image/png": "[encoded data removed]",
      "text/plain": [
       "<Figure size 432x288 with 1 Axes>"
      ]
     },
     "metadata": {
      "needs_background": "light"
     },
     "output_type": "display_data"
    }
   ],
   "source": [
    "plt.plot(history.history[\"loss\"], label=\"loss\")\n",
    "plt.plot(history.history[\"val_loss\"], label=\"val_loss\")\n",
    "plt.legend()\n",
    "plt.show()\n",
    "plt.close()\n",
    "\n",
    "plt.plot(history.history[\"acc\"], label=\"acc\")\n",
    "plt.plot(history.history[\"val_acc\"], label=\"val_acc\")\n",
    "plt.legend()\n",
    "plt.show()\n",
    "plt.close()"
   ]
  },
  {
   "cell_type": "code",
   "execution_count": 9,
   "metadata": {},
   "outputs": [
    {
     "name": "stdout",
     "output_type": "stream",
     "text": [
      "2246/2246 [==============================] - 0s 126us/sample - loss: 1.2957 - acc: 0.7943\n"
     ]
    },
    {
     "data": {
      "text/plain": [
       "[1.2956961001653493, 0.794301]"
      ]
     },
     "execution_count": 9,
     "metadata": {},
     "output_type": "execute_result"
    }
   ],
   "source": [
    "model.evaluate(x_test, y_test)"
   ]
  },
  {
   "cell_type": "code",
   "execution_count": null,
   "metadata": {},
   "outputs": [],
   "source": [
    "\n"
   ]
  }
 ],
 "metadata": {
  "kernelspec": {
   "display_name": "Python 3",
   "language": "python",
   "name": "python3"
  },
  "language_info": {
   "codemirror_mode": {
    "name": "ipython",
    "version": 3
   },
   "file_extension": ".py",
   "mimetype": "text/x-python",
   "name": "python",
   "nbconvert_exporter": "python",
   "pygments_lexer": "ipython3",
   "version": "3.7.4"
  }
 },
 "nbformat": 4,
 "nbformat_minor": 2
}
