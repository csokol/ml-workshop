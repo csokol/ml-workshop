{
 "cells": [
  {
   "cell_type": "code",
   "execution_count": 1,
   "metadata": {},
   "outputs": [
    {
     "name": "stdout",
     "output_type": "stream",
     "text": [
      "(25000,)\n",
      "(25000,)\n",
      "(25000, 600)\n",
      "(25000, 600)\n",
      "[1, 14, 22, 16, 43, 530, 973, 1622, 1385, 65, 458, 4468, 66, 3941, 4, 173, 36, 256, 5, 25, 100, 43, 838, 112, 50, 670, 2, 9, 35, 480, 284, 5, 150, 4, 172, 112, 167, 2, 336, 385, 39, 4, 172, 4536, 1111, 17, 546, 38, 13, 447, 4, 192, 50, 16, 6, 147, 2025, 19, 14, 22, 4, 1920, 4613, 469, 4, 22, 71, 87, 12, 16, 43, 530, 38, 76, 15, 13, 1247, 4, 22, 17, 515, 17, 12, 16, 626, 18, 2, 5, 62, 386, 12, 8, 316, 8, 106, 5, 4, 2223, 5244, 16, 480, 66, 3785, 33, 4, 130, 12, 16, 38, 619, 5, 25, 124, 51, 36, 135, 48, 25, 1415, 33, 6, 22, 12, 215, 28, 77, 52, 5, 14, 407, 16, 82, 10311, 8, 4, 107, 117, 5952, 15, 256, 4, 2, 7, 3766, 5, 723, 36, 71, 43, 530, 476, 26, 400, 317, 46, 7, 4, 12118, 1029, 13, 104, 88, 4, 381, 15, 297, 98, 32, 2071, 56, 26, 141, 6, 194, 7486, 18, 4, 226, 22, 21, 134, 476, 26, 480, 5, 144, 30, 5535, 18, 51, 36, 28, 224, 92, 25, 104, 4, 226, 65, 16, 38, 1334, 88, 12, 16, 283, 5, 16, 4472, 113, 103, 32, 15, 16, 5345, 19, 178, 32]\n",
      "[    0     0     0     0     0     0     0     0     0     0     0     0\n",
      "     0     0     0     0     0     0     0     0     0     0     0     0\n",
      "     0     0     0     0     0     0     0     0     0     0     0     0\n",
      "     0     0     0     0     0     0     0     0     0     0     0     0\n",
      "     0     0     0     0     0     0     0     0     0     0     0     0\n",
      "     0     0     0     0     0     0     0     0     0     0     0     0\n",
      "     0     0     0     0     0     0     0     0     0     0     0     0\n",
      "     0     0     0     0     0     0     0     0     0     0     0     0\n",
      "     0     0     0     0     0     0     0     0     0     0     0     0\n",
      "     0     0     0     0     0     0     0     0     0     0     0     0\n",
      "     0     0     0     0     0     0     0     0     0     0     0     0\n",
      "     0     0     0     0     0     0     0     0     0     0     0     0\n",
      "     0     0     0     0     0     0     0     0     0     0     0     0\n",
      "     0     0     0     0     0     0     0     0     0     0     0     0\n",
      "     0     0     0     0     0     0     0     0     0     0     0     0\n",
      "     0     0     0     0     0     0     0     0     0     0     0     0\n",
      "     0     0     0     0     0     0     0     0     0     0     0     0\n",
      "     0     0     0     0     0     0     0     0     0     0     0     0\n",
      "     0     0     0     0     0     0     0     0     0     0     0     0\n",
      "     0     0     0     0     0     0     0     0     0     0     0     0\n",
      "     0     0     0     0     0     0     0     0     0     0     0     0\n",
      "     0     0     0     0     0     0     0     0     0     0     0     0\n",
      "     0     0     0     0     0     0     0     0     0     0     0     0\n",
      "     0     0     0     0     0     0     0     0     0     0     0     0\n",
      "     0     0     0     0     0     0     0     0     0     0     0     0\n",
      "     0     0     0     0     0     0     0     0     0     0     0     0\n",
      "     0     0     0     0     0     0     0     0     0     0     0     0\n",
      "     0     0     0     0     0     0     0     0     0     0     0     0\n",
      "     0     0     0     0     0     0     0     0     0     0     0     0\n",
      "     0     0     0     0     0     0     0     0     0     0     0     0\n",
      "     0     0     0     0     0     0     0     0     0     0     0     0\n",
      "     0     0     0     0     0     0     0     0     0     0     1    14\n",
      "    22    16    43   530   973  1622  1385    65   458  4468    66  3941\n",
      "     4   173    36   256     5    25   100    43   838   112    50   670\n",
      "     2     9    35   480   284     5   150     4   172   112   167     2\n",
      "   336   385    39     4   172  4536  1111    17   546    38    13   447\n",
      "     4   192    50    16     6   147  2025    19    14    22     4  1920\n",
      "  4613   469     4    22    71    87    12    16    43   530    38    76\n",
      "    15    13  1247     4    22    17   515    17    12    16   626    18\n",
      "     2     5    62   386    12     8   316     8   106     5     4  2223\n",
      "  5244    16   480    66  3785    33     4   130    12    16    38   619\n",
      "     5    25   124    51    36   135    48    25  1415    33     6    22\n",
      "    12   215    28    77    52     5    14   407    16    82 10311     8\n",
      "     4   107   117  5952    15   256     4     2     7  3766     5   723\n",
      "    36    71    43   530   476    26   400   317    46     7     4 12118\n",
      "  1029    13   104    88     4   381    15   297    98    32  2071    56\n",
      "    26   141     6   194  7486    18     4   226    22    21   134   476\n",
      "    26   480     5   144    30  5535    18    51    36    28   224    92\n",
      "    25   104     4   226    65    16    38  1334    88    12    16   283\n",
      "     5    16  4472   113   103    32    15    16  5345    19   178    32]\n"
     ]
    }
   ],
   "source": [
    "from tensorflow.keras.datasets import imdb\n",
    "from tensorflow.keras import preprocessing\n",
    "%matplotlib inline \n",
    "import matplotlib.pyplot as plt\n",
    "\n",
    "max_features = 15000\n",
    "maxlen = 600\n",
    "vector_size = 8\n",
    "\n",
    "(x_train, y_train), (x_test, y_test) = imdb.load_data(num_words=max_features)\n",
    "\n",
    "print(x_train.shape)\n",
    "print(x_test.shape)\n",
    "\n",
    "review = x_train[0]\n",
    "\n",
    "x_train = preprocessing.sequence.pad_sequences(x_train, maxlen=maxlen) #truncates the content\n",
    "x_test = preprocessing.sequence.pad_sequences(x_test, maxlen=maxlen)\n",
    "\n",
    "print(x_train.shape)\n",
    "print(x_test.shape)\n",
    "\n",
    "processed_review = x_train[0]\n",
    "\n",
    "print(review)\n",
    "print(processed_review)\n"
   ]
  },
  {
   "cell_type": "code",
   "execution_count": 2,
   "metadata": {},
   "outputs": [],
   "source": [
    "from tensorflow.keras import models, layers"
   ]
  },
  {
   "cell_type": "code",
   "execution_count": 3,
   "metadata": {},
   "outputs": [
    {
     "name": "stderr",
     "output_type": "stream",
     "text": [
      "WARNING: Logging before flag parsing goes to stderr.\n",
      "W0723 11:50:32.399629 4582790592 deprecation.py:506] From /usr/local/lib/python3.7/site-packages/tensorflow/python/keras/initializers.py:119: calling RandomUniform.__init__ (from tensorflow.python.ops.init_ops) with dtype is deprecated and will be removed in a future version.\n",
      "Instructions for updating:\n",
      "Call initializer instance with the dtype argument instead of passing it to the constructor\n",
      "W0723 11:50:32.420222 4582790592 deprecation.py:506] From /usr/local/lib/python3.7/site-packages/tensorflow/python/ops/init_ops.py:1251: calling VarianceScaling.__init__ (from tensorflow.python.ops.init_ops) with dtype is deprecated and will be removed in a future version.\n",
      "Instructions for updating:\n",
      "Call initializer instance with the dtype argument instead of passing it to the constructor\n",
      "W0723 11:50:32.460572 4582790592 deprecation.py:323] From /usr/local/lib/python3.7/site-packages/tensorflow/python/ops/nn_impl.py:180: add_dispatch_support.<locals>.wrapper (from tensorflow.python.ops.array_ops) is deprecated and will be removed in a future version.\n",
      "Instructions for updating:\n",
      "Use tf.where in 2.0, which has the same broadcast rule as np.where\n"
     ]
    },
    {
     "name": "stdout",
     "output_type": "stream",
     "text": [
      "Model: \"sequential\"\n",
      "_________________________________________________________________\n",
      "Layer (type)                 Output Shape              Param #   \n",
      "=================================================================\n",
      "embedding (Embedding)        (None, 600, 8)            120000    \n",
      "_________________________________________________________________\n",
      "flatten (Flatten)            (None, 4800)              0         \n",
      "_________________________________________________________________\n",
      "dense (Dense)                (None, 1)                 4801      \n",
      "=================================================================\n",
      "Total params: 124,801\n",
      "Trainable params: 124,801\n",
      "Non-trainable params: 0\n",
      "_________________________________________________________________\n"
     ]
    }
   ],
   "source": [
    "model = models.Sequential()\n",
    "model.add(layers.Embedding(\n",
    "    max_features, \n",
    "    vector_size, \n",
    "    input_length=maxlen\n",
    "))\n",
    "model.add(layers.Flatten())\n",
    "model.add(layers.Dense(1, activation=\"sigmoid\"))\n",
    "model.compile(\n",
    "    optimizer=\"rmsprop\",\n",
    "    loss=\"binary_crossentropy\",\n",
    "    metrics=[\"accuracy\"]\n",
    ")\n",
    "model.summary()"
   ]
  },
  {
   "cell_type": "code",
   "execution_count": 4,
   "metadata": {},
   "outputs": [
    {
     "name": "stdout",
     "output_type": "stream",
     "text": [
      "Train on 24750 samples, validate on 250 samples\n",
      "Epoch 1/7\n",
      "24750/24750 [==============================] - 1s 42us/sample - loss: 0.6421 - acc: 0.6600 - val_loss: 0.5021 - val_acc: 0.8040\n",
      "Epoch 2/7\n",
      "24750/24750 [==============================] - 1s 40us/sample - loss: 0.3847 - acc: 0.8636 - val_loss: 0.3059 - val_acc: 0.8920\n",
      "Epoch 3/7\n",
      "24750/24750 [==============================] - 1s 39us/sample - loss: 0.2639 - acc: 0.9027 - val_loss: 0.2590 - val_acc: 0.9240\n",
      "Epoch 4/7\n",
      "24750/24750 [==============================] - 1s 38us/sample - loss: 0.2138 - acc: 0.9204 - val_loss: 0.2337 - val_acc: 0.9080\n",
      "Epoch 5/7\n",
      "24750/24750 [==============================] - 1s 39us/sample - loss: 0.1820 - acc: 0.9347 - val_loss: 0.2385 - val_acc: 0.9120\n",
      "Epoch 6/7\n",
      "24750/24750 [==============================] - 1s 39us/sample - loss: 0.1580 - acc: 0.9436 - val_loss: 0.2289 - val_acc: 0.9120\n",
      "Epoch 7/7\n",
      "24750/24750 [==============================] - 1s 39us/sample - loss: 0.1392 - acc: 0.9515 - val_loss: 0.2313 - val_acc: 0.9120\n"
     ]
    }
   ],
   "source": [
    "history = model.fit(x_train, y_train, epochs=7, batch_size=128, validation_split=0.01)"
   ]
  },
  {
   "cell_type": "code",
   "execution_count": 5,
   "metadata": {},
   "outputs": [
    {
     "data": {
      "image/png": "[encoded data removed]",
      "text/plain": [
       "<Figure size 432x288 with 1 Axes>"
      ]
     },
     "metadata": {
      "needs_background": "light"
     },
     "output_type": "display_data"
    },
    {
     "data": {
      "image/png": "[encoded data removed]",
      "text/plain": [
       "<Figure size 432x288 with 1 Axes>"
      ]
     },
     "metadata": {
      "needs_background": "light"
     },
     "output_type": "display_data"
    }
   ],
   "source": [
    "plt.plot(history.history[\"loss\"], label=\"loss\")\n",
    "plt.plot(history.history[\"val_loss\"], label=\"val_loss\")\n",
    "plt.legend()\n",
    "plt.show()\n",
    "plt.close()\n",
    "\n",
    "plt.plot(history.history[\"acc\"], label=\"acc\")\n",
    "plt.plot(history.history[\"val_acc\"], label=\"val_acc\")\n",
    "plt.legend()\n",
    "plt.show()\n",
    "plt.close()\n",
    "\n"
   ]
  },
  {
   "cell_type": "code",
   "execution_count": 6,
   "metadata": {},
   "outputs": [
    {
     "name": "stdout",
     "output_type": "stream",
     "text": [
      "25000/25000 [==============================] - 0s 14us/sample - loss: 0.2685 - acc: 0.8910\n"
     ]
    },
    {
     "data": {
      "text/plain": [
       "[0.26846390610218046, 0.89096]"
      ]
     },
     "execution_count": 6,
     "metadata": {},
     "output_type": "execute_result"
    }
   ],
   "source": [
    "model.evaluate(x_test, y_test)"
   ]
  },
  {
   "cell_type": "code",
   "execution_count": 11,
   "metadata": {},
   "outputs": [
    {
     "name": "stdout",
     "output_type": "stream",
     "text": [
      "[[-0.00224527  0.01233558 -0.00671492 ... -0.0158531   0.00094791\n",
      "  -0.03423617]\n",
      " [ 0.02932385 -0.00368441 -0.03171558 ...  0.02837103 -0.08859491\n",
      "   0.05949135]\n",
      " [ 0.0104681  -0.0059596  -0.04464321 ... -0.01519425 -0.12393993\n",
      "   0.04903881]\n",
      " ...\n",
      " [ 0.03654797 -0.0363545   0.00865153 ... -0.01916582 -0.03453683\n",
      "   0.0148139 ]\n",
      " [ 0.02065904 -0.03810325  0.01614388 ... -0.02315994 -0.04488129\n",
      "   0.01660339]\n",
      " [ 0.08593863  0.08393868 -0.01497864 ... -0.03180826 -0.08863679\n",
      "   0.07407412]]\n"
     ]
    }
   ],
   "source": [
    "embedding = model.layers[0].get_weights()[0]\n",
    "print(embedding)"
   ]
  },
  {
   "cell_type": "code",
   "execution_count": 71,
   "metadata": {},
   "outputs": [
    {
     "name": "stdout",
     "output_type": "stream",
     "text": [
      "75\n",
      "370\n",
      "[ 0.00178532  0.00192943  0.02482763 -0.02814252  0.12129992  0.05736258\n",
      " -0.0276749  -0.02271799]\n",
      "bad vs awful 0.9121339\n",
      "good vs great 0.51627475\n",
      "good vs ok 0.74294144\n",
      "awesome vs great 0.10846315\n",
      "True\n",
      "good 90's\n",
      "bad trite\n",
      "actor fee\n",
      "director clinic\n"
     ]
    }
   ],
   "source": [
    "import numpy\n",
    "\n",
    "word_index = imdb.get_word_index()\n",
    "print(word_index.get('bad'))\n",
    "print(word_index.get('awful'))\n",
    "reverse_index = { value:key for key, value in word_index.items() }\n",
    "\n",
    "print(model.layers[0].get_weights()[0][word_index.get('bad')])\n",
    "\n",
    "def to_vec(word):\n",
    "    return model.layers[0].get_weights()[0][word_index.get(word) + 3]\n",
    "\n",
    "w1 = model.layers[0].get_weights()[0][word_index.get('bad') + 3]\n",
    "w2 = model.layers[0].get_weights()[0][word_index.get('awful') + 3]\n",
    "w3 = model.layers[0].get_weights()[0][word_index.get('good') + 3]\n",
    "w4 = model.layers[0].get_weights()[0][word_index.get('awesome') + 3]\n",
    "w5 = model.layers[0].get_weights()[0][word_index.get('director') + 3]\n",
    "w6 = model.layers[0].get_weights()[0][word_index.get('producer') + 3]\n",
    "\n",
    "def compare(w1, w2):\n",
    "    print(w1 + \" vs \" + w2, numpy.linalg.norm(to_vec(w1)-to_vec(w2)))\n",
    "\n",
    "compare(\"bad\", \"awful\")\n",
    "compare(\"good\", \"great\")\n",
    "compare(\"good\", \"ok\")\n",
    "compare(\"awesome\", \"great\")\n",
    "\n",
    "def distance(w1, w2):\n",
    "    return numpy.linalg.norm(to_vec(w1)-to_vec(w2))\n",
    "\n",
    "def find_closest(word):\n",
    "    min = 10000\n",
    "    closest = \"\"\n",
    "    for w, i in word_index.items():\n",
    "        if (word_index.get(w) < max_features - 3 and w != word):\n",
    "            d = distance(word, w)\n",
    "            if (d < min):\n",
    "                closest = w\n",
    "                min = d\n",
    "    return closest\n",
    "\n",
    "# def print_closest(word):\n",
    "#     print(word, find_closest)\n",
    "\n",
    "# print(find_closest(\"good\"))\n",
    "print(\"good\" == \"good\")\n",
    "def print_it(word): \n",
    "    print(word, find_closest(word))\n",
    "\n",
    "print_it(\"good\")\n",
    "print_it(\"bad\")\n",
    "print_it(\"actor\")\n",
    "print_it(\"director\")\n",
    "\n",
    "\n"
   ]
  },
  {
   "cell_type": "code",
   "execution_count": null,
   "metadata": {},
   "outputs": [],
   "source": []
  }
 ],
 "metadata": {
  "kernelspec": {
   "display_name": "Python 3",
   "language": "python",
   "name": "python3"
  },
  "language_info": {
   "codemirror_mode": {
    "name": "ipython",
    "version": 3
   },
   "file_extension": ".py",
   "mimetype": "text/x-python",
   "name": "python",
   "nbconvert_exporter": "python",
   "pygments_lexer": "ipython3",
   "version": "3.7.4"
  }
 },
 "nbformat": 4,
 "nbformat_minor": 2
}
